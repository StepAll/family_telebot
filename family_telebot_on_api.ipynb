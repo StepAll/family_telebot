{
 "cells": [
  {
   "cell_type": "code",
   "execution_count": 1,
   "metadata": {},
   "outputs": [
    {
     "name": "stdout",
     "output_type": "stream",
     "text": [
      "Collecting passlib\n",
      "  Downloading passlib-1.7.4-py2.py3-none-any.whl (525 kB)\n",
      "\u001b[2K     \u001b[90m━━━━━━━━━━━━━━━━━━━━━━━━━━━━━━━━━━━━━━━\u001b[0m \u001b[32m525.6/525.6 KB\u001b[0m \u001b[31m2.6 MB/s\u001b[0m eta \u001b[36m0:00:00\u001b[0m00:01\u001b[0m00:01\u001b[0m\n",
      "\u001b[?25hInstalling collected packages: passlib\n",
      "Successfully installed passlib-1.7.4\n",
      "\u001b[33mWARNING: Running pip as the 'root' user can result in broken permissions and conflicting behaviour with the system package manager. It is recommended to use a virtual environment instead: https://pip.pypa.io/warnings/venv\u001b[0m\u001b[33m\n",
      "\u001b[0m\u001b[33mWARNING: You are using pip version 22.0.4; however, version 23.0 is available.\n",
      "You should consider upgrading via the '/usr/local/bin/python -m pip install --upgrade pip' command.\u001b[0m\u001b[33m\n",
      "\u001b[0mCollecting python-jose\n",
      "  Downloading python_jose-3.3.0-py2.py3-none-any.whl (33 kB)\n",
      "Requirement already satisfied: pyasn1 in /usr/local/lib/python3.8/site-packages (from python-jose) (0.4.8)\n",
      "Requirement already satisfied: rsa in /usr/local/lib/python3.8/site-packages (from python-jose) (4.9)\n",
      "Collecting ecdsa!=0.15\n",
      "  Downloading ecdsa-0.18.0-py2.py3-none-any.whl (142 kB)\n",
      "\u001b[2K     \u001b[90m━━━━━━━━━━━━━━━━━━━━━━━━━━━━━━━━━━━━━━━\u001b[0m \u001b[32m142.9/142.9 KB\u001b[0m \u001b[31m2.4 MB/s\u001b[0m eta \u001b[36m0:00:00\u001b[0ma \u001b[36m0:00:01\u001b[0m\n",
      "\u001b[?25hRequirement already satisfied: six>=1.9.0 in /usr/local/lib/python3.8/site-packages (from ecdsa!=0.15->python-jose) (1.16.0)\n"
     ]
    }
   ],
   "source": [
    "!pip install passlib # hashing passwords\n",
    "!pip install python-jose # for jwt (tokens)\n",
    "!pip install schedule"
   ]
  },
  {
   "cell_type": "code",
   "execution_count": 2,
   "metadata": {},
   "outputs": [
    {
     "data": {
      "text/plain": [
       "True"
      ]
     },
     "execution_count": 2,
     "metadata": {},
     "output_type": "execute_result"
    }
   ],
   "source": [
    "import os\n",
    "import io\n",
    "import json\n",
    "\n",
    "import requests\n",
    "\n",
    "import telebot\n",
    "\n",
    "\n",
    "import schedule\n",
    "from threading import Thread\n",
    "from time import sleep\n",
    "\n",
    "\n",
    "from dotenv import load_dotenv\n",
    "load_dotenv()"
   ]
  },
  {
   "cell_type": "code",
   "execution_count": 3,
   "metadata": {},
   "outputs": [],
   "source": [
    "JULIA_MEM_API_URL = 'http://127.0.0.1:8000'\n",
    "# JULIA_MEM_API_URL = 'http://julia-mem-api.fly.dev'\n",
    "\n",
    "# teleboot\n",
    "STEPANOVS_FAMILY_BOT_TOKEN = os.environ.get('STEPANOVS_FAMILY_BOT_TOKEN', None)\n",
    "STEPANOVS_FAMILY_BOT_CHAT_ID = os.environ.get('STEPANOVS_FAMILY_BOT_CHAT_ID', None)\n",
    "FAMILY_CHAT_ID = os.environ.get('FAMILY_CHAT_ID', None)"
   ]
  },
  {
   "cell_type": "code",
   "execution_count": 4,
   "metadata": {},
   "outputs": [],
   "source": [
    "# from PIL import Image\n",
    "# fn = io.BytesIO()\n",
    "# fn.write(mem_random.content)\n",
    "# Image.open(fn)"
   ]
  },
  {
   "cell_type": "code",
   "execution_count": 6,
   "metadata": {},
   "outputs": [],
   "source": [
    "def get_julia_mem(mem_type='random'):\n",
    "    '''mem_type= 'new', 'random'\n",
    "        return byte\n",
    "    '''\n",
    "    url_mem = f'{JULIA_MEM_API_URL}/mem/{mem_type}'\n",
    "    \n",
    "    username = os.getenv('JULIA_MEM_API_USERNAME')\n",
    "    password = os.getenv('JULIA_MEM_API_PASSWORD')\n",
    "\n",
    "    url_token = f'{JULIA_MEM_API_URL}/token'\n",
    "    headers={'accept': 'application/json', 'Content-Type': 'application/x-www-form-urlencoded'}\n",
    "    data = {'username':username, 'password':password}\n",
    "    response = requests.post(url_token, headers=headers, data=data)\n",
    "    token_json = json.loads(response.content)\n",
    "    access_token = token_json[\"access_token\"]\n",
    "    token_type = token_json[\"token_type\"]\n",
    "\n",
    "    response_mem = requests.get(url=url_mem, headers={'accept': 'application/json', 'Authorization': f'{token_type} {access_token}'})\n",
    "    \n",
    "    if response_mem.status_code == 200:\n",
    "        return response_mem.content\n",
    "    return None"
   ]
  },
  {
   "cell_type": "code",
   "execution_count": 7,
   "metadata": {},
   "outputs": [],
   "source": [
    "def send_julia_mem_to_telegram(bot, telebot_chat_id, byte_mem):\n",
    "    bot.send_photo(telebot_chat_id, photo=byte_mem)\n",
    "    return None"
   ]
  },
  {
   "cell_type": "code",
   "execution_count": 8,
   "metadata": {},
   "outputs": [],
   "source": [
    "def schedule_checker():\n",
    "    while True:\n",
    "        schedule.run_pending()\n",
    "        sleep(1)"
   ]
  },
  {
   "cell_type": "code",
   "execution_count": 9,
   "metadata": {},
   "outputs": [],
   "source": [
    "def schedule_function_to_run():\n",
    "    byte_mem = get_julia_mem(mem_type='new')\n",
    "    if byte_mem:\n",
    "        send_julia_mem_to_telegram(bot, telebot_chat_id, byte_mem)\n"
   ]
  },
  {
   "cell_type": "code",
   "execution_count": 10,
   "metadata": {},
   "outputs": [],
   "source": [
    "telebot_token = STEPANOVS_FAMILY_BOT_TOKEN\n",
    "telebot_chat_id = STEPANOVS_FAMILY_BOT_CHAT_ID # FAMILY_CHAT_ID\n",
    "bot = telebot.TeleBot(telebot_token)"
   ]
  },
  {
   "cell_type": "code",
   "execution_count": 14,
   "metadata": {},
   "outputs": [],
   "source": [
    "# Create the job in schedule.\n",
    "schedule.every(20).seconds.do(schedule_function_to_run)\n",
    "\n",
    "# Spin up a thread to run the schedule check so it doesn't block your bot.\n",
    "# This will take the function schedule_checker which will check every second\n",
    "# to see if the scheduled job needs to be ran.\n",
    "Thread(target=schedule_checker).start() \n",
    "\n",
    "# And then of course, start your server.\n",
    "bot.polling()"
   ]
  },
  {
   "cell_type": "code",
   "execution_count": null,
   "metadata": {},
   "outputs": [],
   "source": []
  },
  {
   "cell_type": "code",
   "execution_count": null,
   "metadata": {},
   "outputs": [],
   "source": []
  }
 ],
 "metadata": {
  "kernelspec": {
   "display_name": "Python 3 (ipykernel)",
   "language": "python",
   "name": "python3"
  },
  "orig_nbformat": 4
 },
 "nbformat": 4,
 "nbformat_minor": 2
}
