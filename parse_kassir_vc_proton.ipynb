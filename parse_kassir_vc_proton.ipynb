{
 "cells": [
  {
   "cell_type": "code",
   "execution_count": 4,
   "metadata": {},
   "outputs": [],
   "source": [
    "import os\n",
    "import json\n",
    "import requests\n",
    "import time, datetime\n",
    "from bs4 import BeautifulSoup\n",
    "import telebot"
   ]
  },
  {
   "cell_type": "code",
   "execution_count": 5,
   "metadata": {},
   "outputs": [],
   "source": [
    "\n",
    "def add_messages(messages:dict, soup) -> dict:\n",
    "    all_links = soup.find_all('a')\n",
    "    for link in all_links:\n",
    "        ss = [*link.strings]\n",
    "        if any([s in link.text.lower() for s in SEARCH_STRINGS]) and len(ss) > 2:\n",
    "            \n",
    "            tikets_link = link.attrs[\"href\"]\n",
    "            if not messages.get(tikets_link):\n",
    "                event_date = datetime.datetime.strptime(tikets_link[-10:], '%Y-%m-%d').date()\n",
    "                txt = f'[{ss[0]} :: {ss[1]}, {ss[2]}]({KASSIR_URL}{tikets_link})'\n",
    "                messages[tikets_link] = {'text':txt, \n",
    "                                    'event_date':event_date,\n",
    "                                    'is_new':True}            \n",
    "    messages = get_valid_messages(messages)\n",
    "    return messages\n",
    "\n",
    "\n",
    "def get_valid_messages(messages:dict):\n",
    "    '''\n",
    "    удалить события которые уже прошли\n",
    "    '''\n",
    "    for k in list(messages.keys()):\n",
    "        if messages[k]['event_date'] < datetime.datetime.now().date():\n",
    "            messages.pop(k)\n",
    "    return messages\n",
    "\n",
    "\n",
    "def get_keys_to_send(messages:dict):\n",
    "    '''\n",
    "    возвращает список ключей сообщений, которые нужно отправить\n",
    "    '''\n",
    "    keys2send = []\n",
    "    for k in list(messages.keys()):\n",
    "        if messages[k]['is_new']:\n",
    "            keys2send.append(k) \n",
    "    return keys2send\n",
    "\n",
    "\n",
    "def mark_sent_messages(messages:dict, sent_keys:list) -> dict:\n",
    "    '''\n",
    "    отметить сообщения как отправленные\n",
    "    '''\n",
    "    for k in sent_keys:\n",
    "        messages[k]['is_new'] = False\n",
    "    return messages\n",
    "\n",
    "\n",
    "def send_msg_to_telegram(bot, telebot_chat_id, msg):\n",
    "    bot.send_message(telebot_chat_id, msg, parse_mode='Markdown', disable_web_page_preview=True)\n",
    "    return None"
   ]
  },
  {
   "cell_type": "code",
   "execution_count": 6,
   "metadata": {},
   "outputs": [
    {
     "name": "stdout",
     "output_type": "stream",
     "text": [
      "__В продаже:__\n",
      "[Сокол - Родина (Москва) :: 7 апреля 15:00, вс](https://saratov.kassir.ru/sport/stadion-lokomotiv-saratov/sokol---rodina-moskva_2024-04-07)\n",
      "[Сокол - Волгарь (Астрахань) :: 18 мая 17:00, сб](https://saratov.kassir.ru/sport/stadion-lokomotiv-saratov/sokol---volgar-astrahan_2024-05-18)\n",
      "[Сокол - Тюмень (Тюмень) :: 12 мая 17:00, вс](https://saratov.kassir.ru/sport/stadion-lokomotiv-saratov/sokol---tyumen-tyumen_2024-05-12)\n",
      "[Сокол - Енисей (Красноярск) :: 24 апреля 19:00, ср](https://saratov.kassir.ru/sport/stadion-lokomotiv-saratov/sokol---enisey-krasnoyarsk_2024-04-24)\n",
      "[Сокол - Торпедо (Москва) :: 14 апреля 15:00, вс](https://saratov.kassir.ru/sport/stadion-lokomotiv-saratov/sokol---torpedo-moskva_2024-04-14)\n",
      "[Автодор - Астана :: 31 марта 16:30, вс](https://saratov.kassir.ru/sport/lds-kristall-1/avtodor---astana_2024-03-31)\n",
      "[Автодор -МБА :: 28 марта 19:30, чт](https://saratov.kassir.ru/sport/lds-kristall-1/avtodor--mba_2024-03-28)\n"
     ]
    },
    {
     "ename": "KeyboardInterrupt",
     "evalue": "",
     "output_type": "error",
     "traceback": [
      "\u001b[0;31m---------------------------------------------------------------------------\u001b[0m",
      "\u001b[0;31mKeyboardInterrupt\u001b[0m                         Traceback (most recent call last)",
      "Cell \u001b[0;32mIn[6], line 41\u001b[0m\n\u001b[1;32m     37\u001b[0m         \u001b[38;5;28mprint\u001b[39m(msg)\n\u001b[1;32m     39\u001b[0m         messages \u001b[38;5;241m=\u001b[39m mark_sent_messages(messages, keys2send)\n\u001b[0;32m---> 41\u001b[0m \u001b[43mtime\u001b[49m\u001b[38;5;241;43m.\u001b[39;49m\u001b[43msleep\u001b[49m\u001b[43m(\u001b[49m\u001b[43mDELAY_TIME\u001b[49m\u001b[43m)\u001b[49m\n",
      "\u001b[0;31mKeyboardInterrupt\u001b[0m: "
     ]
    }
   ],
   "source": [
    "DELAY_TIME = int(os.environ['DELAY_TIME'])\n",
    "SEARCH_STRINGS = json.loads(os.environ['SEARCH_STRINGS'])\n",
    "FAMILY_CHAT_ID = os.environ['FAMILY_CHAT_ID']\n",
    "STEPANOVS_FAMILY_BOT_CHAT_ID = os.environ['STEPANOVS_FAMILY_BOT_CHAT_ID']\n",
    "STEPANOVS_FAMILY_BOT_TOKEN = os.environ['STEPANOVS_FAMILY_BOT_TOKEN']\n",
    "\n",
    "KASSIR_URL = 'https://saratov.kassir.ru'\n",
    "\n",
    "url = f'{KASSIR_URL}/bilety-na-sportivnye-meropriyatiya'\n",
    "headers = {'User-Agent': 'Mozilla/5.0 (Macintosh; Intel Mac OS X 10_10_1) AppleWebKit/537.36 (KHTML, like Gecko) Chrome/39.0.2171.95 Safari/537.36'}\n",
    "\n",
    "bot = telebot.TeleBot(STEPANOVS_FAMILY_BOT_TOKEN)\n",
    "\n",
    "messages = {}\n",
    "\n",
    "while True:\n",
    "    src = None\n",
    "    response = None\n",
    "    \n",
    "    try:\n",
    "        response = requests.get(url, headers=headers)\n",
    "    except requests.exceptions.SSLError as e:\n",
    "        print(e)\n",
    "        \n",
    "    if response:\n",
    "        if response.status_code == 200: \n",
    "            src = response.text\n",
    "\n",
    "            soup = BeautifulSoup(src, \"html.parser\")\n",
    "            messages = add_messages(messages, soup)\n",
    "            keys2send = get_keys_to_send(messages)\n",
    "            msg2send = [messages[k]['text'] for k in keys2send]\n",
    "            \n",
    "            msg = '\\n'.join(msg2send)\n",
    "            msg = f\"__В продаже:__\\n{msg}\"\n",
    "            send_msg_to_telegram(bot, FAMILY_CHAT_ID, msg)\n",
    "\n",
    "            messages = mark_sent_messages(messages, keys2send)\n",
    "\n",
    "    time.sleep(DELAY_TIME)"
   ]
  },
  {
   "cell_type": "code",
   "execution_count": null,
   "metadata": {},
   "outputs": [],
   "source": []
  }
 ],
 "metadata": {
  "kernelspec": {
   "display_name": "Python 3 (ipykernel)",
   "language": "python",
   "name": "python3"
  },
  "language_info": {
   "codemirror_mode": {
    "name": "ipython",
    "version": 3
   },
   "file_extension": ".py",
   "mimetype": "text/x-python",
   "name": "python",
   "nbconvert_exporter": "python",
   "pygments_lexer": "ipython3",
   "version": "3.11.6"
  }
 },
 "nbformat": 4,
 "nbformat_minor": 2
}
